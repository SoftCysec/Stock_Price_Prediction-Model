{
  "nbformat": 4,
  "nbformat_minor": 0,
  "metadata": {
    "colab": {
      "name": "STOCK PRICE PREDICTION.ipynb",
      "provenance": [],
      "collapsed_sections": []
    },
    "kernelspec": {
      "name": "python3",
      "display_name": "Python 3"
    },
    "language_info": {
      "name": "python"
    }
  },
  "cells": [
    {
      "cell_type": "code",
      "execution_count": 55,
      "metadata": {
        "colab": {
          "base_uri": "https://localhost:8080/"
        },
        "id": "JOFkwNLDsmmf",
        "outputId": "17bf8087-0a31-4077-a2cc-dc79d873008b"
      },
      "outputs": [
        {
          "output_type": "stream",
          "name": "stdout",
          "text": [
            "Looking in indexes: https://pypi.org/simple, https://us-python.pkg.dev/colab-wheels/public/simple/\n",
            "Requirement already satisfied: quandl in /usr/local/lib/python3.7/dist-packages (3.7.0)\n",
            "Requirement already satisfied: numpy>=1.8 in /usr/local/lib/python3.7/dist-packages (from quandl) (1.21.6)\n",
            "Requirement already satisfied: python-dateutil in /usr/local/lib/python3.7/dist-packages (from quandl) (2.8.2)\n",
            "Requirement already satisfied: requests>=2.7.0 in /usr/local/lib/python3.7/dist-packages (from quandl) (2.23.0)\n",
            "Requirement already satisfied: more-itertools in /usr/local/lib/python3.7/dist-packages (from quandl) (8.14.0)\n",
            "Requirement already satisfied: pandas>=0.14 in /usr/local/lib/python3.7/dist-packages (from quandl) (1.3.5)\n",
            "Requirement already satisfied: six in /usr/local/lib/python3.7/dist-packages (from quandl) (1.15.0)\n",
            "Requirement already satisfied: inflection>=0.3.1 in /usr/local/lib/python3.7/dist-packages (from quandl) (0.5.1)\n",
            "Requirement already satisfied: pytz>=2017.3 in /usr/local/lib/python3.7/dist-packages (from pandas>=0.14->quandl) (2022.2.1)\n",
            "Requirement already satisfied: urllib3!=1.25.0,!=1.25.1,<1.26,>=1.21.1 in /usr/local/lib/python3.7/dist-packages (from requests>=2.7.0->quandl) (1.24.3)\n",
            "Requirement already satisfied: certifi>=2017.4.17 in /usr/local/lib/python3.7/dist-packages (from requests>=2.7.0->quandl) (2022.6.15)\n",
            "Requirement already satisfied: idna<3,>=2.5 in /usr/local/lib/python3.7/dist-packages (from requests>=2.7.0->quandl) (2.10)\n",
            "Requirement already satisfied: chardet<4,>=3.0.2 in /usr/local/lib/python3.7/dist-packages (from requests>=2.7.0->quandl) (3.0.4)\n"
          ]
        }
      ],
      "source": [
        "pip install quandl"
      ]
    },
    {
      "cell_type": "code",
      "source": [
        "# This program predicts stock prices by using machine learning models\n",
        "\n",
        "# Install the dependencies\n",
        "import quandl\n",
        "import numpy as np\n",
        "from sklearn.linear_model import LinearRegression\n",
        "from sklearn.svm import SVR\n",
        "from sklearn.model_selection import train_test_split"
      ],
      "metadata": {
        "id": "3VCU1IlvtCcS"
      },
      "execution_count": 56,
      "outputs": []
    },
    {
      "cell_type": "code",
      "source": [
        "# Get the stock data\n",
        "\n",
        "df = quandl.get(\"WIKI/AMZN\")\n",
        "# Take a look at the data\n",
        "print(df.head())"
      ],
      "metadata": {
        "colab": {
          "base_uri": "https://localhost:8080/"
        },
        "id": "2sp0piZRts4L",
        "outputId": "a4548b3b-a13e-4fce-f3a5-e1386540bf1e"
      },
      "execution_count": 57,
      "outputs": [
        {
          "output_type": "stream",
          "name": "stdout",
          "text": [
            "             Open   High    Low  Close     Volume  Ex-Dividend  Split Ratio  \\\n",
            "Date                                                                          \n",
            "1997-05-16  22.38  23.75  20.50  20.75  1225000.0          0.0          1.0   \n",
            "1997-05-19  20.50  21.25  19.50  20.50   508900.0          0.0          1.0   \n",
            "1997-05-20  20.75  21.00  19.63  19.63   455600.0          0.0          1.0   \n",
            "1997-05-21  19.25  19.75  16.50  17.13  1571100.0          0.0          1.0   \n",
            "1997-05-22  17.25  17.38  15.75  16.75   981400.0          0.0          1.0   \n",
            "\n",
            "            Adj. Open  Adj. High  Adj. Low  Adj. Close  Adj. Volume  \n",
            "Date                                                                 \n",
            "1997-05-16   1.865000   1.979167  1.708333    1.729167   14700000.0  \n",
            "1997-05-19   1.708333   1.770833  1.625000    1.708333    6106800.0  \n",
            "1997-05-20   1.729167   1.750000  1.635833    1.635833    5467200.0  \n",
            "1997-05-21   1.604167   1.645833  1.375000    1.427500   18853200.0  \n",
            "1997-05-22   1.437500   1.448333  1.312500    1.395833   11776800.0  \n"
          ]
        }
      ]
    },
    {
      "cell_type": "code",
      "source": [
        "# get the Adjusted Close Price\n",
        "\n",
        "df = df[['Adj. Close']]\n",
        "# Take a look at the new data\n",
        "print(df.head())"
      ],
      "metadata": {
        "colab": {
          "base_uri": "https://localhost:8080/"
        },
        "id": "EieS8LjBuBjN",
        "outputId": "56bc767a-e34e-473d-c054-1b31d10e9a36"
      },
      "execution_count": 58,
      "outputs": [
        {
          "output_type": "stream",
          "name": "stdout",
          "text": [
            "            Adj. Close\n",
            "Date                  \n",
            "1997-05-16    1.729167\n",
            "1997-05-19    1.708333\n",
            "1997-05-20    1.635833\n",
            "1997-05-21    1.427500\n",
            "1997-05-22    1.395833\n"
          ]
        }
      ]
    },
    {
      "cell_type": "code",
      "source": [
        "# A variable for predicting 'x' days out into the future\n",
        "forecast_day = 30\n",
        "# Create another column (the target depended variable) shifted 'x' units up\n",
        "df['Prediction'] = df[['Adj. Close']].shift(-forecast_day)\n",
        "# Take a look at the new data set\n",
        "print(df.head())"
      ],
      "metadata": {
        "colab": {
          "base_uri": "https://localhost:8080/"
        },
        "id": "ivXSyOPCufl4",
        "outputId": "58b2f59b-1d22-47a1-e538-87616db19a16"
      },
      "execution_count": 59,
      "outputs": [
        {
          "output_type": "stream",
          "name": "stdout",
          "text": [
            "            Adj. Close  Prediction\n",
            "Date                              \n",
            "1997-05-16    1.729167    1.541667\n",
            "1997-05-19    1.708333    1.515833\n",
            "1997-05-20    1.635833    1.588333\n",
            "1997-05-21    1.427500    1.911667\n",
            "1997-05-22    1.395833    2.000000\n"
          ]
        }
      ]
    },
    {
      "cell_type": "code",
      "source": [
        "## Create the indepedent data set (x) ##\n",
        "# convert the dataframe to a numpy array\n",
        "x = np.array(df.drop(['Prediction'], 1))\n",
        "# Remove the last 'x' rows\n",
        "x = x[:-forecast_day]\n",
        "print(x)"
      ],
      "metadata": {
        "colab": {
          "base_uri": "https://localhost:8080/"
        },
        "id": "rhmGuz4TwAdW",
        "outputId": "d7264a67-c141-47c6-aed2-e6ec518d3f50"
      },
      "execution_count": 60,
      "outputs": [
        {
          "output_type": "stream",
          "name": "stdout",
          "text": [
            "[[   1.72916667]\n",
            " [   1.70833333]\n",
            " [   1.63583333]\n",
            " ...\n",
            " [1350.47      ]\n",
            " [1338.99      ]\n",
            " [1386.23      ]]\n"
          ]
        },
        {
          "output_type": "stream",
          "name": "stderr",
          "text": [
            "/usr/local/lib/python3.7/dist-packages/ipykernel_launcher.py:3: FutureWarning: In a future version of pandas all arguments of DataFrame.drop except for the argument 'labels' will be keyword-only\n",
            "  This is separate from the ipykernel package so we can avoid doing imports until\n"
          ]
        }
      ]
    },
    {
      "cell_type": "code",
      "source": [
        "## Create the dependent data set (y) ##\n",
        "# Convert the dataframe to a numpy array (All of the values including the NaN)\n",
        "y = np.array(df['Prediction'])\n",
        "# Get all of the Y values except the last 'x' rows\n",
        "y = y[:-forecast_day]\n",
        "print(y)"
      ],
      "metadata": {
        "colab": {
          "base_uri": "https://localhost:8080/"
        },
        "id": "AnA1808qx3HJ",
        "outputId": "63adadfe-6191-4985-81a2-be450cb1b81a"
      },
      "execution_count": 61,
      "outputs": [
        {
          "output_type": "stream",
          "name": "stdout",
          "text": [
            "[1.54166667e+00 1.51583333e+00 1.58833333e+00 ... 1.49556000e+03\n",
            " 1.55586000e+03 1.49705000e+03]\n"
          ]
        }
      ]
    },
    {
      "cell_type": "code",
      "source": [
        "# Split the data into 70% training and 30% testing\n",
        "x_train, x_test, y_train, y_test = train_test_split(x, y, test_size=0.3)"
      ],
      "metadata": {
        "id": "VBwovXfey8h3"
      },
      "execution_count": 62,
      "outputs": []
    },
    {
      "cell_type": "code",
      "source": [
        "# create and traing the Support Vector Regressor\n",
        "svr_rbf = SVR(kernel='rbf', C=1e3, gamma=0.1)\n",
        "svr_rbf.fit(x_train, y_train)"
      ],
      "metadata": {
        "colab": {
          "base_uri": "https://localhost:8080/"
        },
        "id": "ib_3w5im0SqV",
        "outputId": "61082ce4-95d1-4d22-bc3d-541f99a5460a"
      },
      "execution_count": 63,
      "outputs": [
        {
          "output_type": "execute_result",
          "data": {
            "text/plain": [
              "SVR(C=1000.0, gamma=0.1)"
            ]
          },
          "metadata": {},
          "execution_count": 63
        }
      ]
    },
    {
      "cell_type": "code",
      "source": [
        "# Test model: Score returns the coefficient of determination R^2 of the prediction\n",
        "# The best posible score is 1.0 (100% accuracy)\n",
        "svm_confidence = svr_rbf.score(x_test, y_test)\n",
        "print(\"svm confidence: \", svm_confidence)"
      ],
      "metadata": {
        "colab": {
          "base_uri": "https://localhost:8080/"
        },
        "id": "4iU314Fs1Duv",
        "outputId": "fe5161e9-5aaa-4e8e-bcc0-20a8ac07fcc6"
      },
      "execution_count": 64,
      "outputs": [
        {
          "output_type": "stream",
          "name": "stdout",
          "text": [
            "svm confidence:  0.9561814285942642\n"
          ]
        }
      ]
    },
    {
      "cell_type": "code",
      "source": [
        "# Create and train a Linear regression Model\n",
        "lr = LinearRegression()\n",
        "# Train the model\n",
        "lr.fit(x_train, y_train)"
      ],
      "metadata": {
        "colab": {
          "base_uri": "https://localhost:8080/"
        },
        "id": "-N4aq87x2kIj",
        "outputId": "08271d25-4e57-489f-dbc5-443ef3446b63"
      },
      "execution_count": 65,
      "outputs": [
        {
          "output_type": "execute_result",
          "data": {
            "text/plain": [
              "LinearRegression()"
            ]
          },
          "metadata": {},
          "execution_count": 65
        }
      ]
    },
    {
      "cell_type": "code",
      "source": [
        "# Test model: Score returns the coefficient of determination R^2 of the prediction\n",
        "# The best posible score is 1.0 (100% accuracy)\n",
        "lr_confidence = lr.score(x_test, y_test)\n",
        "print(\"lr confidence: \", lr_confidence)"
      ],
      "metadata": {
        "colab": {
          "base_uri": "https://localhost:8080/"
        },
        "id": "9BYxH7w02-6X",
        "outputId": "765aa891-ecdd-45d6-8f7f-6d3d36001095"
      },
      "execution_count": 66,
      "outputs": [
        {
          "output_type": "stream",
          "name": "stdout",
          "text": [
            "lr confidence:  0.9876270313119935\n"
          ]
        }
      ]
    },
    {
      "cell_type": "code",
      "source": [
        "# set x_forecast = the last 30 rows of the original data set from Adj. Close column\n",
        "x_forecast = np.array(df.drop(['Prediction'], 1))[-forecast_day:]\n",
        "print(x_forecast)"
      ],
      "metadata": {
        "colab": {
          "base_uri": "https://localhost:8080/"
        },
        "id": "99vxVZld3OdQ",
        "outputId": "ac634385-47fc-4a4b-9266-53f274c802f6"
      },
      "execution_count": 67,
      "outputs": [
        {
          "output_type": "stream",
          "name": "stdout",
          "text": [
            "[[1414.51]\n",
            " [1451.05]\n",
            " [1461.76]\n",
            " [1448.69]\n",
            " [1468.35]\n",
            " [1482.92]\n",
            " [1484.76]\n",
            " [1500.  ]\n",
            " [1521.95]\n",
            " [1511.98]\n",
            " [1512.45]\n",
            " [1493.45]\n",
            " [1500.25]\n",
            " [1523.61]\n",
            " [1537.64]\n",
            " [1545.  ]\n",
            " [1551.86]\n",
            " [1578.89]\n",
            " [1598.39]\n",
            " [1588.18]\n",
            " [1591.  ]\n",
            " [1582.32]\n",
            " [1571.68]\n",
            " [1544.93]\n",
            " [1586.51]\n",
            " [1581.86]\n",
            " [1544.1 ]\n",
            " [1495.56]\n",
            " [1555.86]\n",
            " [1497.05]]\n"
          ]
        },
        {
          "output_type": "stream",
          "name": "stderr",
          "text": [
            "/usr/local/lib/python3.7/dist-packages/ipykernel_launcher.py:2: FutureWarning: In a future version of pandas all arguments of DataFrame.drop except for the argument 'labels' will be keyword-only\n",
            "  \n"
          ]
        }
      ]
    },
    {
      "cell_type": "code",
      "source": [
        "# Print Linear Regression Model predictions for the next 'x' days \n",
        "lr_prediction = lr.predict(x_forecast)\n",
        "print(lr_prediction)\n",
        "\n",
        "# Print Support Vector Regressor Model predictions for the next 'x' days \n",
        "svm_prediction = svr_rbf.predict(x_forecast)\n",
        "print(svm_prediction)"
      ],
      "metadata": {
        "colab": {
          "base_uri": "https://localhost:8080/"
        },
        "id": "l-vYVPqP34Pk",
        "outputId": "396b7a47-401c-483e-fa9b-395d7a776a4d"
      },
      "execution_count": 68,
      "outputs": [
        {
          "output_type": "stream",
          "name": "stdout",
          "text": [
            "[1499.37920913 1538.20234921 1549.58154545 1535.69488861 1556.58331045\n",
            " 1572.06369225 1574.01866154 1590.21090716 1613.53241578 1602.93945719\n",
            " 1603.43882435 1583.25164149 1590.47652798 1615.29613807 1630.20277888\n",
            " 1638.02265603 1645.31129153 1674.03021535 1694.74863986 1683.90068529\n",
            " 1686.89688822 1677.6745331  1666.3697107  1637.9482822  1682.12633816\n",
            " 1677.18579078 1637.06642105 1585.49348127 1649.56122476 1587.0765814 ]\n",
            "[1004.96937736 1550.55346538  668.25681069 1076.23025389  668.22356323\n",
            "  668.22356323  668.22356323  668.22356323  668.22356323  668.22356323\n",
            "  668.22356323  668.22356323  668.22356323  668.22356323  668.22356323\n",
            "  668.22356323  668.22356323  668.22356323  668.22356323  668.22356323\n",
            "  668.22356323  668.22356323  668.22356323  668.22356323  668.22356323\n",
            "  668.22356323  668.22356323  668.22356323  668.22356323  668.22356323]\n"
          ]
        }
      ]
    }
  ]
}